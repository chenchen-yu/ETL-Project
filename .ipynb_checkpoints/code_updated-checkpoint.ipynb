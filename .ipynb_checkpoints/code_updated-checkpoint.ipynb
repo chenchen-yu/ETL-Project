{
 "cells": [
  {
   "cell_type": "code",
   "execution_count": 1,
   "metadata": {},
   "outputs": [],
   "source": [
    "# dependencies\n",
    "import pandas as pd"
   ]
  },
  {
   "cell_type": "code",
   "execution_count": 2,
   "metadata": {},
   "outputs": [
    {
     "data": {
      "text/html": [
       "<div>\n",
       "<style scoped>\n",
       "    .dataframe tbody tr th:only-of-type {\n",
       "        vertical-align: middle;\n",
       "    }\n",
       "\n",
       "    .dataframe tbody tr th {\n",
       "        vertical-align: top;\n",
       "    }\n",
       "\n",
       "    .dataframe thead th {\n",
       "        text-align: right;\n",
       "    }\n",
       "</style>\n",
       "<table border=\"1\" class=\"dataframe\">\n",
       "  <thead>\n",
       "    <tr style=\"text-align: right;\">\n",
       "      <th></th>\n",
       "      <th>Date</th>\n",
       "      <th>AveragePrice</th>\n",
       "      <th>TotalVolume</th>\n",
       "      <th>Type4046</th>\n",
       "      <th>Type4225</th>\n",
       "      <th>Type4770</th>\n",
       "      <th>TotalBags</th>\n",
       "      <th>SmallBags</th>\n",
       "      <th>LargeBags</th>\n",
       "      <th>XlargeBags</th>\n",
       "      <th>type</th>\n",
       "      <th>year</th>\n",
       "      <th>region</th>\n",
       "    </tr>\n",
       "  </thead>\n",
       "  <tbody>\n",
       "    <tr>\n",
       "      <th>0</th>\n",
       "      <td>12/27/15</td>\n",
       "      <td>1.33</td>\n",
       "      <td>64236.62</td>\n",
       "      <td>1036.74</td>\n",
       "      <td>54454.85</td>\n",
       "      <td>48.16</td>\n",
       "      <td>8696.87</td>\n",
       "      <td>8603.62</td>\n",
       "      <td>93.25</td>\n",
       "      <td>0.0</td>\n",
       "      <td>conventional</td>\n",
       "      <td>2015</td>\n",
       "      <td>Albany</td>\n",
       "    </tr>\n",
       "    <tr>\n",
       "      <th>1</th>\n",
       "      <td>12/20/15</td>\n",
       "      <td>1.35</td>\n",
       "      <td>54876.98</td>\n",
       "      <td>674.28</td>\n",
       "      <td>44638.81</td>\n",
       "      <td>58.33</td>\n",
       "      <td>9505.56</td>\n",
       "      <td>9408.07</td>\n",
       "      <td>97.49</td>\n",
       "      <td>0.0</td>\n",
       "      <td>conventional</td>\n",
       "      <td>2015</td>\n",
       "      <td>Albany</td>\n",
       "    </tr>\n",
       "    <tr>\n",
       "      <th>2</th>\n",
       "      <td>12/13/15</td>\n",
       "      <td>0.93</td>\n",
       "      <td>118220.22</td>\n",
       "      <td>794.70</td>\n",
       "      <td>109149.67</td>\n",
       "      <td>130.50</td>\n",
       "      <td>8145.35</td>\n",
       "      <td>8042.21</td>\n",
       "      <td>103.14</td>\n",
       "      <td>0.0</td>\n",
       "      <td>conventional</td>\n",
       "      <td>2015</td>\n",
       "      <td>Albany</td>\n",
       "    </tr>\n",
       "    <tr>\n",
       "      <th>3</th>\n",
       "      <td>12/6/15</td>\n",
       "      <td>1.08</td>\n",
       "      <td>78992.15</td>\n",
       "      <td>1132.00</td>\n",
       "      <td>71976.41</td>\n",
       "      <td>72.58</td>\n",
       "      <td>5811.16</td>\n",
       "      <td>5677.40</td>\n",
       "      <td>133.76</td>\n",
       "      <td>0.0</td>\n",
       "      <td>conventional</td>\n",
       "      <td>2015</td>\n",
       "      <td>Albany</td>\n",
       "    </tr>\n",
       "    <tr>\n",
       "      <th>4</th>\n",
       "      <td>11/29/15</td>\n",
       "      <td>1.28</td>\n",
       "      <td>51039.60</td>\n",
       "      <td>941.48</td>\n",
       "      <td>43838.39</td>\n",
       "      <td>75.78</td>\n",
       "      <td>6183.95</td>\n",
       "      <td>5986.26</td>\n",
       "      <td>197.69</td>\n",
       "      <td>0.0</td>\n",
       "      <td>conventional</td>\n",
       "      <td>2015</td>\n",
       "      <td>Albany</td>\n",
       "    </tr>\n",
       "  </tbody>\n",
       "</table>\n",
       "</div>"
      ],
      "text/plain": [
       "       Date  AveragePrice  TotalVolume  Type4046   Type4225  Type4770  \\\n",
       "0  12/27/15          1.33     64236.62   1036.74   54454.85     48.16   \n",
       "1  12/20/15          1.35     54876.98    674.28   44638.81     58.33   \n",
       "2  12/13/15          0.93    118220.22    794.70  109149.67    130.50   \n",
       "3   12/6/15          1.08     78992.15   1132.00   71976.41     72.58   \n",
       "4  11/29/15          1.28     51039.60    941.48   43838.39     75.78   \n",
       "\n",
       "   TotalBags  SmallBags  LargeBags  XlargeBags          type  year  region  \n",
       "0    8696.87    8603.62      93.25         0.0  conventional  2015  Albany  \n",
       "1    9505.56    9408.07      97.49         0.0  conventional  2015  Albany  \n",
       "2    8145.35    8042.21     103.14         0.0  conventional  2015  Albany  \n",
       "3    5811.16    5677.40     133.76         0.0  conventional  2015  Albany  \n",
       "4    6183.95    5986.26     197.69         0.0  conventional  2015  Albany  "
      ]
     },
     "execution_count": 2,
     "metadata": {},
     "output_type": "execute_result"
    }
   ],
   "source": [
    "csv_file=\"Avocado.csv\"\n",
    "avocado=pd.read_csv(csv_file)\n",
    "avocado=avocado.drop(columns=[\"Unnamed: 0\"])\n",
    "avocado.head()"
   ]
  },
  {
   "cell_type": "code",
   "execution_count": 3,
   "metadata": {},
   "outputs": [],
   "source": [
    "file1=\"ACS_dataset_2015/ACS_15_1YR_B02001_with_ann.csv\"\n",
    "file2=\"ACS_dataset_2016/ACS_16_1YR_B02001_with_ann.csv\"\n",
    "file3=\"ACS_dataset_2017/ACS_17_1YR_B02001_with_ann.csv\"\n",
    "\n",
    "race2015=pd.read_csv(file1)\n",
    "race2016=pd.read_csv(file2)\n",
    "race2017=pd.read_csv(file3)\n",
    "\n",
    "race2015=race2015.drop([0])\n",
    "race2016=race2016.drop([0])\n",
    "race2017=race2017.drop([0])"
   ]
  },
  {
   "cell_type": "code",
   "execution_count": 4,
   "metadata": {},
   "outputs": [],
   "source": [
    "race2015[\"YEAR\"]=2015\n",
    "race2016[\"YEAR\"]=2016\n",
    "race2017[\"YEAR\"]=2017"
   ]
  },
  {
   "cell_type": "code",
   "execution_count": 5,
   "metadata": {},
   "outputs": [],
   "source": [
    "race_combined=pd.concat([race2015,race2016,race2017],ignore_index=True)"
   ]
  },
  {
   "cell_type": "code",
   "execution_count": 6,
   "metadata": {},
   "outputs": [],
   "source": [
    "race_combined=race_combined[[\"GEO.id2\",\"GEO.display-label\",\"HD01_VD01\",\"HD01_VD02\",\"HD01_VD03\",\"HD01_VD04\",\"HD01_VD05\",\\\n",
    "                            \"HD01_VD06\",\"HD01_VD07\",\"HD01_VD08\",\"HD01_VD09\",\"HD01_VD10\",\"YEAR\"]]"
   ]
  },
  {
   "cell_type": "code",
   "execution_count": 7,
   "metadata": {},
   "outputs": [],
   "source": [
    "race_combined=race_combined.rename(columns={\"GEO.id2\":\"GeoID\",\"GEO.display-label\":\"Geography\",\"HD01_VD01\":\"Total\",\"HD01_VD02\":\"White\",\"HD01_VD03\":\"Black or African American\",\\\n",
    "                              \"HD01_VD04\":\"American Indian and Alaska Native\",\"HD01_VD05\":\"Asian\",\"HD01_VD06\":\"Native Hawaiian and Other Pacific Islander\",\\\n",
    "                              \"HD01_VD07\":\"Some other race\",\"HD01_VD08\":\"Two or more races\",\"HD01_VD09\":\"Two races including Some other race\",\"HD01_VD10\":\"Two races excluding Some other race, and three or more races\"})"
   ]
  },
  {
   "cell_type": "code",
   "execution_count": 8,
   "metadata": {},
   "outputs": [],
   "source": [
    "# race_combined=race_combined.rename(columns={\"Black or African American\":\"BlackorAfricanAmerican\",\n",
    "#                               \"American Indian and Alaska Native\":\"AmericanIndianandAlaskaNative\",\n",
    "#                              \"Native Hawaiian and Other Pacific Islander\":\"NativeHawaiianandOtherPacificIslander\",\n",
    "#                              \"Some other race\":\"Someotherrace\",\"Two or more races\":\"Twoormoreraces\",\n",
    "#                              \"Two races including Some other race\":\"TworacesincludingSomeotherrace\",\n",
    "#                              \"Two races excluding Some other race, and three or more races\":\"TworacesexcludingSomeotherraceandthreeormoreraces\"})"
   ]
  },
  {
   "cell_type": "markdown",
   "metadata": {},
   "source": [
    "# combine age datasets"
   ]
  },
  {
   "cell_type": "code",
   "execution_count": 9,
   "metadata": {},
   "outputs": [],
   "source": [
    "filea=\"ACS_dataset_2015/ACS_15_1YR_S0101_with_ann.csv\"\n",
    "fileb=\"ACS_dataset_2016/ACS_16_1YR_S0101_with_ann.csv\"\n",
    "filec=\"ACS_dataset_2017/ACS_17_1YR_S0101_with_ann.csv\"\n",
    "\n",
    "age2015=pd.read_csv(filea)\n",
    "age2016=pd.read_csv(fileb)\n",
    "age2017=pd.read_csv(filec)\n",
    "\n",
    "age2015[\"YEAR\"]=2015\n",
    "age2016[\"YEAR\"]=2016\n",
    "age2017[\"YEAR\"]=2017\n",
    "\n",
    "age2015=age2015.drop([0])\n",
    "age2016=age2016.drop([0])\n",
    "age2017=age2017.drop([0])"
   ]
  },
  {
   "cell_type": "code",
   "execution_count": 10,
   "metadata": {},
   "outputs": [],
   "source": [
    "age_combined=pd.concat([age2015,age2016],ignore_index=True)"
   ]
  },
  {
   "cell_type": "code",
   "execution_count": 11,
   "metadata": {},
   "outputs": [],
   "source": [
    "age_combined=age_combined[[\"GEO.id2\",\"GEO.display-label\",\"HC01_EST_VC01\",\"HC01_EST_VC03\",\"HC01_EST_VC04\",\"HC01_EST_VC05\",\\\n",
    "                          \"HC01_EST_VC06\",\"HC01_EST_VC07\",\"HC01_EST_VC08\",\"HC01_EST_VC09\",\"HC01_EST_VC10\",\"HC01_EST_VC11\",\\\n",
    "                          \"HC01_EST_VC12\",\"HC01_EST_VC13\",\"HC01_EST_VC14\",\"HC01_EST_VC15\",\"HC01_EST_VC16\",\"HC01_EST_VC17\",\\\n",
    "                          \"HC01_EST_VC18\",\"HC01_EST_VC19\",\"HC01_EST_VC20\",\"YEAR\"]]"
   ]
  },
  {
   "cell_type": "code",
   "execution_count": 12,
   "metadata": {},
   "outputs": [],
   "source": [
    "age_combined=age_combined.rename(columns={\"GEO.id2\":\"GeoID\",\"GEO.display-label\":\"Geography\",\"HC01_EST_VC01\":\"Total\",\\\n",
    "                                          \"HC01_EST_VC03\":\"<5 years\",\"HC01_EST_VC04\":\"5-9 years\",\"HC01_EST_VC05\":\"10-14 years\",\\\n",
    "                                          \"HC01_EST_VC06\":\"15-19 years\",\"HC01_EST_VC07\":\"20-24 years\",\"HC01_EST_VC08\":\"25-29 years\",\\\n",
    "                                          \"HC01_EST_VC09\":\"30-34 years\",\"HC01_EST_VC10\":\"35-39 years\",\"HC01_EST_VC11\":\"40-44 years\",\\\n",
    "                                          \"HC01_EST_VC12\":\"45-49 years\",\"HC01_EST_VC13\":\"50-54 years\",\"HC01_EST_VC14\":\"55-59 years\",\\\n",
    "                                          \"HC01_EST_VC15\":\"60-64 years\",\"HC01_EST_VC16\":\"65-69 years\",\"HC01_EST_VC17\":\"70-74 years\",\\\n",
    "                                          \"HC01_EST_VC18\":\"75-79 years\",\"HC01_EST_VC19\":\"80-84 years\",\"HC01_EST_VC20\":\">85 years\"})"
   ]
  },
  {
   "cell_type": "code",
   "execution_count": 13,
   "metadata": {},
   "outputs": [],
   "source": [
    "age2017=age2017[[\"GEO.id2\",\"GEO.display-label\",\"HC01_EST_VC01\",\"HC02_EST_VC03\",\"HC02_EST_VC04\",\"HC02_EST_VC05\",\"HC02_EST_VC06\",\\\n",
    "\"HC02_EST_VC07\",\"HC02_EST_VC08\",\"HC02_EST_VC09\",\"HC02_EST_VC10\",\"HC02_EST_VC11\",\"HC02_EST_VC12\",\"HC02_EST_VC13\",\"HC02_EST_VC14\",\\\n",
    "\"HC02_EST_VC15\",\"HC02_EST_VC16\",\"HC02_EST_VC17\",\"HC02_EST_VC18\",\"HC02_EST_VC19\",\"HC02_EST_VC20\",\"YEAR\"]]"
   ]
  },
  {
   "cell_type": "code",
   "execution_count": 14,
   "metadata": {},
   "outputs": [],
   "source": [
    "age2017=age2017.rename(columns={\"GEO.id2\":\"GeoID\",\"GEO.display-label\":\"Geography\",\"HC01_EST_VC01\":\"Total\",\\\n",
    "                                \"HC02_EST_VC03\":\"<5 years\",\"HC02_EST_VC04\":\"5-9 years\",\"HC02_EST_VC05\":\"10-14 years\",\\\n",
    "                                \"HC02_EST_VC06\":\"15-19 years\",\"HC02_EST_VC07\":\"20-24 years\",\"HC02_EST_VC08\":\"25-29 years\",\\\n",
    "                                \"HC02_EST_VC09\":\"30-34 years\",\"HC02_EST_VC10\":\"35-39 years\",\"HC02_EST_VC11\":\"40-44 years\",\\\n",
    "                                \"HC02_EST_VC12\":\"45-49 years\",\"HC02_EST_VC13\":\"50-54 years\",\"HC02_EST_VC14\":\"55-59 years\",\\\n",
    "                                \"HC02_EST_VC15\":\"60-64 years\",\"HC02_EST_VC16\":\"65-69 years\",\"HC02_EST_VC17\":\"70-74 years\",\\\n",
    "                                \"HC02_EST_VC18\":\"75-79 years\",\"HC02_EST_VC19\":\"80-84 years\",\"HC02_EST_VC20\":\">85 years\"})\n"
   ]
  },
  {
   "cell_type": "code",
   "execution_count": 15,
   "metadata": {},
   "outputs": [],
   "source": [
    "age_combined=pd.concat([age_combined,age2017],ignore_index=True,sort=False)"
   ]
  },
  {
   "cell_type": "markdown",
   "metadata": {},
   "source": [
    "# match cities from avocado data, clean census data again"
   ]
  },
  {
   "cell_type": "code",
   "execution_count": 16,
   "metadata": {},
   "outputs": [],
   "source": [
    "cities=avocado[\"region\"].unique()\n",
    "cities=cities.tolist()"
   ]
  },
  {
   "cell_type": "code",
   "execution_count": 17,
   "metadata": {},
   "outputs": [],
   "source": [
    "region_to_drop=['California','West','Plains','SouthCentral', 'Southeast','GreatLakes','Midsouth','Northeast','TotalUS']"
   ]
  },
  {
   "cell_type": "code",
   "execution_count": 18,
   "metadata": {},
   "outputs": [],
   "source": [
    "avocado_updated = avocado[~avocado[\"region\"].isin(region_to_drop)]"
   ]
  },
  {
   "cell_type": "code",
   "execution_count": 19,
   "metadata": {},
   "outputs": [],
   "source": [
    "age_combined[\"region\"]=age_combined[\"Geography\"].str.split(\",\", n=1, expand = True)[0]\n",
    "age_combined[\"state\"]=age_combined[\"Geography\"].str.split(\",\", n=1, expand = True)[1].str.split(\" \", n=0, expand = True)[1]\n",
    "race_combined[\"region\"]=race_combined[\"Geography\"].str.split(\",\", n=1, expand = True)[0]\n",
    "race_combined[\"state\"]=race_combined[\"Geography\"].str.split(\",\", n=1, expand = True)[1].str.split(\" \", n=0, expand = True)[1]"
   ]
  },
  {
   "cell_type": "markdown",
   "metadata": {},
   "source": [
    "## assign state to avocado city"
   ]
  },
  {
   "cell_type": "code",
   "execution_count": 20,
   "metadata": {},
   "outputs": [],
   "source": [
    "def cond(a):\n",
    "    city_list=[]\n",
    "    for city in cities:\n",
    "        arguments=(\"avocado_updated\" + \"['\" + \"region\" + \"']\"+ \"==\" + \"'\" + city + \"'\")\n",
    "        city_list.append(arguments)\n",
    "    return city_list\n",
    "conditions=cond(cities)"
   ]
  },
  {
   "cell_type": "code",
   "execution_count": 21,
   "metadata": {},
   "outputs": [
    {
     "name": "stderr",
     "output_type": "stream",
     "text": [
      "/anaconda3/lib/python3.6/site-packages/ipykernel/__main__.py:51: SettingWithCopyWarning: \n",
      "A value is trying to be set on a copy of a slice from a DataFrame.\n",
      "Try using .loc[row_indexer,col_indexer] = value instead\n",
      "\n",
      "See the caveats in the documentation: http://pandas.pydata.org/pandas-docs/stable/indexing.html#indexing-view-versus-copy\n"
     ]
    }
   ],
   "source": [
    "import numpy as np\n",
    "conditions = [avocado_updated['region']=='Albany',\n",
    " avocado_updated['region']=='Atlanta',\n",
    " avocado_updated['region']=='BaltimoreWashington',\n",
    " avocado_updated['region']=='Boise',\n",
    " avocado_updated['region']=='Boston',\n",
    " avocado_updated['region']=='BuffaloRochester',\n",
    " avocado_updated['region']=='Charlotte',\n",
    " avocado_updated['region']=='Chicago',\n",
    " avocado_updated['region']=='CincinnatiDayton',\n",
    " avocado_updated['region']=='Columbus',\n",
    " avocado_updated['region']=='DallasFtWorth',\n",
    " avocado_updated['region']=='Denver',\n",
    " avocado_updated['region']=='Detroit',\n",
    " avocado_updated['region']=='GrandRapids',\n",
    " avocado_updated['region']=='HarrisburgScranton',\n",
    " avocado_updated['region']=='HartfordSpringfield',\n",
    " avocado_updated['region']=='Houston',\n",
    " avocado_updated['region']=='Indianapolis',\n",
    " avocado_updated['region']=='Jacksonville',\n",
    " avocado_updated['region']=='LasVegas',\n",
    " avocado_updated['region']=='LosAngeles',\n",
    " avocado_updated['region']=='Louisville',\n",
    " avocado_updated['region']=='MiamiFtLauderdale',\n",
    " avocado_updated['region']=='Nashville',\n",
    " avocado_updated['region']=='NewOrleansMobile',\n",
    " avocado_updated['region']=='NewYork',\n",
    " avocado_updated['region']=='NorthernNewEngland',\n",
    " avocado_updated['region']=='Orlando',\n",
    " avocado_updated['region']=='Philadelphia',\n",
    " avocado_updated['region']=='PhoenixTucson',\n",
    " avocado_updated['region']=='Pittsburgh',\n",
    " avocado_updated['region']=='Portland',\n",
    " avocado_updated['region']=='RaleighGreensboro',\n",
    " avocado_updated['region']=='RichmondNorfolk',\n",
    " avocado_updated['region']=='Roanoke',\n",
    " avocado_updated['region']=='Sacramento',\n",
    " avocado_updated['region']=='SanDiego',\n",
    " avocado_updated['region']=='SanFrancisco',\n",
    " avocado_updated['region']=='Seattle',\n",
    " avocado_updated['region']=='SouthCarolina',\n",
    " avocado_updated['region']=='Spokane',\n",
    " avocado_updated['region']=='StLouis',\n",
    " avocado_updated['region']=='Syracuse',\n",
    " avocado_updated['region']=='Tampa',\n",
    " avocado_updated['region']=='WestTexNewMexico']\n",
    "\n",
    "choices=[\"NY\",\"GA\",\"MD\",\"ID\",\"MA\",\"NY\",\"NC\",\"IL\",\"OH\",\"OH\",\"TX\",\"CO\",\"MI\",\"MI\",\"PA\",\"CT\",\"TX\",\"IN\",\"FL\",\"NV\",\"CA\",\"KY\",\n",
    "        \"FL\",\"TN\",\"LA\",\"NY\",\"NH-VT\",\"FL\",\"PA\",\"AZ\",\"PA\",\"OR\",\"NC\",\"CA\",\"IN\",\"CA\",\"CA\",\"CA\",\"WA\",\"SC\",\"WA\",\"MO\",\"NY\",\"FL\",\"NM\"]\n",
    "\n",
    "avocado_updated[\"state\"]=np.select(conditions,choices,default=\"N/A\")"
   ]
  },
  {
   "cell_type": "markdown",
   "metadata": {},
   "source": [
    "# Load-create database/create connection/append df to tables "
   ]
  },
  {
   "cell_type": "code",
   "execution_count": 22,
   "metadata": {},
   "outputs": [],
   "source": [
    "from sqlalchemy import create_engine\n",
    "import pymysql\n",
    "pymysql.install_as_MySQLdb()"
   ]
  },
  {
   "cell_type": "code",
   "execution_count": 23,
   "metadata": {},
   "outputs": [],
   "source": [
    "rds_connection_string = \"root:Aa1992)@!#@localhost:3306/avocado_db\"\n",
    "engine = create_engine(f'mysql://{rds_connection_string}')"
   ]
  },
  {
   "cell_type": "code",
   "execution_count": 24,
   "metadata": {},
   "outputs": [
    {
     "data": {
      "text/plain": [
       "['age', 'avocado_sale', 'race']"
      ]
     },
     "execution_count": 24,
     "metadata": {},
     "output_type": "execute_result"
    }
   ],
   "source": [
    "engine.table_names()"
   ]
  },
  {
   "cell_type": "code",
   "execution_count": 25,
   "metadata": {},
   "outputs": [],
   "source": [
    "avocado_updated.to_sql(name=\"avocado_sale\",con=engine,if_exists=\"replace\",index=False)"
   ]
  },
  {
   "cell_type": "code",
   "execution_count": 26,
   "metadata": {},
   "outputs": [],
   "source": [
    "race_combined.to_sql(name=\"race\",con=engine,if_exists=\"replace\",index=False)"
   ]
  },
  {
   "cell_type": "code",
   "execution_count": 27,
   "metadata": {},
   "outputs": [],
   "source": [
    "age_combined.to_sql(name=\"age\",con=engine,if_exists=\"replace\",index=False)"
   ]
  },
  {
   "cell_type": "markdown",
   "metadata": {},
   "source": [
    "# Confirm loads & Join tables"
   ]
  },
  {
   "cell_type": "code",
   "execution_count": null,
   "metadata": {},
   "outputs": [],
   "source": []
  },
  {
   "cell_type": "code",
   "execution_count": null,
   "metadata": {},
   "outputs": [],
   "source": []
  }
 ],
 "metadata": {
  "kernelspec": {
   "display_name": "Python [default]",
   "language": "python",
   "name": "python3"
  },
  "language_info": {
   "codemirror_mode": {
    "name": "ipython",
    "version": 3
   },
   "file_extension": ".py",
   "mimetype": "text/x-python",
   "name": "python",
   "nbconvert_exporter": "python",
   "pygments_lexer": "ipython3",
   "version": "3.6.5"
  }
 },
 "nbformat": 4,
 "nbformat_minor": 2
}
